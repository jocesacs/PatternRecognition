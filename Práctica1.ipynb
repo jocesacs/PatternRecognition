{
 "cells": [
  {
   "cell_type": "markdown",
   "metadata": {},
   "source": [
    "# texto"
   ]
  },
  {
   "cell_type": "code",
   "execution_count": null,
   "metadata": {},
   "outputs": [],
   "source": [
    "directory = 'C:/Users/axel_/OneDrive/Universidad/11-. Décimo primer semestre/Reconocimiento de Patrones/Imagenes'   \n",
    "paths = [\n",
    "  directory + '/house.tif', \n",
    "  directory + '/lena_color_512.tif', \n",
    "  directory + '/peppers_color.tif', \n",
    "  directory + '/cameraman.tif', \n",
    "  directory + '/lake.tif',\n",
    "  directory + '/rosa800x600.raw',\n",
    "  directory + '/Anonymized20200210.dcm',\n",
    "  directory + '/IM-0001-0007.dcm'\n",
    "  ]"
   ]
  },
  {
   "cell_type": "markdown",
   "metadata": {},
   "source": [
    "# print(im.width, im.height, im.mode, im.format)"
   ]
  },
  {
   "cell_type": "code",
   "execution_count": 13,
   "metadata": {},
   "outputs": [
    {
     "ename": "UnidentifiedImageError",
     "evalue": "cannot identify image file 'C:/Users/axel_/OneDrive/Universidad/11-. Décimo primer semestre/Reconocimiento de Patrones/Imagenes/Anonymized20200210.dcm'",
     "output_type": "error",
     "traceback": [
      "\u001b[1;31m---------------------------------------------------------------------------\u001b[0m",
      "\u001b[1;31mUnidentifiedImageError\u001b[0m                    Traceback (most recent call last)",
      "\u001b[1;32m<ipython-input-13-e38d74f0d019>\u001b[0m in \u001b[0;36m<module>\u001b[1;34m\u001b[0m\n\u001b[0;32m      2\u001b[0m \u001b[1;33m\u001b[0m\u001b[0m\n\u001b[0;32m      3\u001b[0m \u001b[1;32mfor\u001b[0m \u001b[0mi\u001b[0m \u001b[1;32min\u001b[0m \u001b[0mrange\u001b[0m\u001b[1;33m(\u001b[0m\u001b[0mlen\u001b[0m\u001b[1;33m(\u001b[0m\u001b[0mpaths\u001b[0m\u001b[1;33m)\u001b[0m\u001b[1;33m)\u001b[0m\u001b[1;33m:\u001b[0m\u001b[1;33m\u001b[0m\u001b[1;33m\u001b[0m\u001b[0m\n\u001b[1;32m----> 4\u001b[1;33m     \u001b[0mim\u001b[0m \u001b[1;33m=\u001b[0m \u001b[0mImage\u001b[0m\u001b[1;33m.\u001b[0m\u001b[0mopen\u001b[0m\u001b[1;33m(\u001b[0m\u001b[0mpaths\u001b[0m\u001b[1;33m[\u001b[0m\u001b[0mi\u001b[0m\u001b[1;33m]\u001b[0m\u001b[1;33m)\u001b[0m\u001b[1;33m\u001b[0m\u001b[1;33m\u001b[0m\u001b[0m\n\u001b[0m\u001b[0;32m      5\u001b[0m     \u001b[0mim\u001b[0m\u001b[1;33m.\u001b[0m\u001b[0mshow\u001b[0m\u001b[1;33m(\u001b[0m\u001b[1;33m)\u001b[0m\u001b[1;33m\u001b[0m\u001b[1;33m\u001b[0m\u001b[0m\n\u001b[0;32m      6\u001b[0m \u001b[1;33m\u001b[0m\u001b[0m\n",
      "\u001b[1;32m~\\anaconda3\\lib\\site-packages\\PIL\\Image.py\u001b[0m in \u001b[0;36mopen\u001b[1;34m(fp, mode)\u001b[0m\n\u001b[0;32m   2928\u001b[0m     \u001b[1;32mfor\u001b[0m \u001b[0mmessage\u001b[0m \u001b[1;32min\u001b[0m \u001b[0maccept_warnings\u001b[0m\u001b[1;33m:\u001b[0m\u001b[1;33m\u001b[0m\u001b[1;33m\u001b[0m\u001b[0m\n\u001b[0;32m   2929\u001b[0m         \u001b[0mwarnings\u001b[0m\u001b[1;33m.\u001b[0m\u001b[0mwarn\u001b[0m\u001b[1;33m(\u001b[0m\u001b[0mmessage\u001b[0m\u001b[1;33m)\u001b[0m\u001b[1;33m\u001b[0m\u001b[1;33m\u001b[0m\u001b[0m\n\u001b[1;32m-> 2930\u001b[1;33m     raise UnidentifiedImageError(\n\u001b[0m\u001b[0;32m   2931\u001b[0m         \u001b[1;34m\"cannot identify image file %r\"\u001b[0m \u001b[1;33m%\u001b[0m \u001b[1;33m(\u001b[0m\u001b[0mfilename\u001b[0m \u001b[1;32mif\u001b[0m \u001b[0mfilename\u001b[0m \u001b[1;32melse\u001b[0m \u001b[0mfp\u001b[0m\u001b[1;33m)\u001b[0m\u001b[1;33m\u001b[0m\u001b[1;33m\u001b[0m\u001b[0m\n\u001b[0;32m   2932\u001b[0m     )\n",
      "\u001b[1;31mUnidentifiedImageError\u001b[0m: cannot identify image file 'C:/Users/axel_/OneDrive/Universidad/11-. Décimo primer semestre/Reconocimiento de Patrones/Imagenes/Anonymized20200210.dcm'"
     ]
    }
   ],
   "source": [
    "from PIL import Image\n",
    "\n",
    "for i in range(len(paths)):\n",
    "    im = Image.open(paths[i])\n",
    "    im.show()\n",
    "    \n",
    "#No reconoce el formato raw ni el formato dcm"
   ]
  },
  {
   "cell_type": "markdown",
   "metadata": {},
   "source": [
    "### 4.3.1. Reajusta el tamaño de la carpeta imágenes a 10 veces su tamaño original\n",
    "### 4.3.2. Reajusta el tamaño de la carpeta imágenes a 3 veces el tamaño original. "
   ]
  },
  {
   "cell_type": "code",
   "execution_count": 22,
   "metadata": {},
   "outputs": [],
   "source": [
    "paths = [\n",
    "  directory + '/house.tif', \n",
    "  directory + '/lena_color_512.tif', \n",
    "  directory + '/peppers_color.tif', \n",
    "  directory + '/cameraman.tif', \n",
    "  directory + '/lake.tif',\n",
    "  ]\n",
    "\n",
    "for i in range(len(paths)):\n",
    "    im = Image.open(paths[i])\n",
    "    #print(im.width, im.height)\n",
    "    im.show()\n",
    "    im10 = im.resize((im.width*10, im.height*10), Image.BILINEAR)\n",
    "    #print(im10.width, im10.height)\n",
    "    im10.show()\n",
    "    im3 = im.resize((im.width*3, im.height*3), Image.BILINEAR)\n",
    "    #print(im3.width, im3.height)\n",
    "    im3.show()\n",
    "    \n",
    "#https://pillow.readthedocs.io/en/stable/handbook/concepts.html#PIL.Image.BILINEAR"
   ]
  },
  {
   "cell_type": "markdown",
   "metadata": {},
   "source": [
    "### 4.3.3. Rote la imagen a 45, 90 y 180 grados, guárdelas en formato png."
   ]
  },
  {
   "cell_type": "code",
   "execution_count": 24,
   "metadata": {},
   "outputs": [],
   "source": [
    "im = Image.open(paths[4])\n",
    "\n",
    "im_45 = im.rotate(45)\n",
    "im_45.show()\n",
    "\n",
    "im_90 = im.rotate(90)\n",
    "im_90.show()\n",
    "\n",
    "im_180 = im.rotate(180)\n",
    "im_180.show()\n",
    "\n",
    "#https://pillow.readthedocs.io/en/stable/reference/Image.html#PIL.Image.Image.rotate"
   ]
  },
  {
   "cell_type": "markdown",
   "metadata": {},
   "source": [
    "## 4.4. Convierte la imagen peppers_color.tif a escala de grises\n",
    "\n",
    "### 4.4.1. Recortela de manera que solo quede uno de los pimientos verdes en ese recorte.\n",
    "### 4.4.2. Guárdela en formato .jpg."
   ]
  },
  {
   "cell_type": "code",
   "execution_count": 88,
   "metadata": {},
   "outputs": [
    {
     "name": "stdout",
     "output_type": "stream",
     "text": [
      "512 512\n"
     ]
    }
   ],
   "source": [
    "from PIL import ImageOps\n",
    "\n",
    "im = Image.open(paths[2])\n",
    "print(im.width, im.height)\n",
    "#im.show()\n",
    "\n",
    "left = 155\n",
    "top = 65\n",
    "right = 360\n",
    "bottom = 270\n",
    "\n",
    "im2grayscale = ImageOps.grayscale(im)\n",
    "im2grayscale = im2grayscale.crop((180,180,420,490))   #left, top, right, bottom)\n",
    "im2grayscale.save(directory + '/peppers_colorGS.jpg')\n",
    "\n",
    "#https://pillow.readthedocs.io/en/stable/reference/ImageOps.html?highlight=grayscale#PIL.ImageOps.grayscale\n",
    "#https://pillow.readthedocs.io/en/stable/reference/Image.html?highlight=save%20image#PIL.Image.Image.save\n",
    "#https://pillow.readthedocs.io/en/stable/reference/ImageOps.html?highlight=crop#PIL.ImageOps.crop"
   ]
  },
  {
   "cell_type": "markdown",
   "metadata": {},
   "source": [
    "## 4.5. Un formato de imágenes sin ningún tipo de codificación se conoce como formato crudo (RAW). De la imagen “rosa800x600.raw” lea y despliegue la imagen. Tome en cuenta que esta imagen maneja la precisión de integer8 y el tamaño es de 600x800 pixeles.\n",
    "\n"
   ]
  }
 ],
 "metadata": {
  "kernelspec": {
   "display_name": "Python 3",
   "language": "python",
   "name": "python3"
  },
  "language_info": {
   "codemirror_mode": {
    "name": "ipython",
    "version": 3
   },
   "file_extension": ".py",
   "mimetype": "text/x-python",
   "name": "python",
   "nbconvert_exporter": "python",
   "pygments_lexer": "ipython3",
   "version": "3.8.3"
  }
 },
 "nbformat": 4,
 "nbformat_minor": 4
}
